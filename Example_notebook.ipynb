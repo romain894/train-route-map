{
 "cells": [
  {
   "cell_type": "markdown",
   "id": "ac185110-6a51-4129-9fc8-a8b7225e8406",
   "metadata": {},
   "source": [
    "# Example notebook to plot multiple train trips\n",
    "\n",
    "Romain THOMAS 2024"
   ]
  },
  {
   "cell_type": "markdown",
   "id": "f23f1c66-1377-48fc-87ec-9410a29bb652",
   "metadata": {},
   "source": [
    "# Libraries"
   ]
  },
  {
   "cell_type": "code",
   "execution_count": 17,
   "id": "661f57f8-5a9d-416f-8eb5-8a394e5a6fca",
   "metadata": {},
   "outputs": [],
   "source": [
    "import pandas as pd\n",
    "from geopy.geocoders import Nominatim\n",
    "import requests"
   ]
  },
  {
   "cell_type": "markdown",
   "id": "93c4c6a5-3d2a-40c9-8269-e0d0744ca77e",
   "metadata": {},
   "source": [
    "# Import data"
   ]
  },
  {
   "cell_type": "code",
   "execution_count": 53,
   "id": "90e7af39-865a-47c9-839a-a4b0024faf75",
   "metadata": {},
   "outputs": [
    {
     "data": {
      "text/html": [
       "<div>\n",
       "<style scoped>\n",
       "    .dataframe tbody tr th:only-of-type {\n",
       "        vertical-align: middle;\n",
       "    }\n",
       "\n",
       "    .dataframe tbody tr th {\n",
       "        vertical-align: top;\n",
       "    }\n",
       "\n",
       "    .dataframe thead th {\n",
       "        text-align: right;\n",
       "    }\n",
       "</style>\n",
       "<table border=\"1\" class=\"dataframe\">\n",
       "  <thead>\n",
       "    <tr style=\"text-align: right;\">\n",
       "      <th></th>\n",
       "      <th>trip_name</th>\n",
       "      <th>departure_station</th>\n",
       "      <th>arrival_station</th>\n",
       "      <th>category</th>\n",
       "    </tr>\n",
       "  </thead>\n",
       "  <tbody>\n",
       "    <tr>\n",
       "      <th>0</th>\n",
       "      <td>Trip to Sweden</td>\n",
       "      <td>Paris Gare du Nord</td>\n",
       "      <td>Stockholms Centralstation</td>\n",
       "      <td>2024</td>\n",
       "    </tr>\n",
       "    <tr>\n",
       "      <th>1</th>\n",
       "      <td>Trip to Germany</td>\n",
       "      <td>Paris Gard de l'Est</td>\n",
       "      <td>Berlin HBF</td>\n",
       "      <td>2022</td>\n",
       "    </tr>\n",
       "    <tr>\n",
       "      <th>2</th>\n",
       "      <td>Trip to UTT</td>\n",
       "      <td>Paris Gard de l'Est</td>\n",
       "      <td>Troyes</td>\n",
       "      <td>2022</td>\n",
       "    </tr>\n",
       "  </tbody>\n",
       "</table>\n",
       "</div>"
      ],
      "text/plain": [
       "         trip_name    departure_station            arrival_station  category\n",
       "0   Trip to Sweden   Paris Gare du Nord  Stockholms Centralstation      2024\n",
       "1  Trip to Germany  Paris Gard de l'Est                 Berlin HBF      2022\n",
       "2      Trip to UTT  Paris Gard de l'Est                     Troyes      2022"
      ]
     },
     "execution_count": 53,
     "metadata": {},
     "output_type": "execute_result"
    }
   ],
   "source": [
    "trips_data_path = \"example_trips.csv\"\n",
    "\n",
    "df = pd.read_csv(trips_data_path)\n",
    "\n",
    "df"
   ]
  },
  {
   "cell_type": "markdown",
   "id": "441d1698-bd81-4b14-b101-8e71bc535634",
   "metadata": {},
   "source": [
    "# Get train route\n",
    "\n",
    "Use [https://trainmap.ntag.fr/](https://trainmap.ntag.fr/) API"
   ]
  },
  {
   "cell_type": "code",
   "execution_count": 52,
   "id": "045f46a5-b964-4ff2-b3de-106214b333a1",
   "metadata": {},
   "outputs": [
    {
     "name": "stdout",
     "output_type": "stream",
     "text": [
      "https://trainmap.ntag.fr/api/route?dep=2.35497,48.88040&arr=18.05821,59.33015&simplify=1\n",
      "478\n"
     ]
    }
   ],
   "source": [
    "geolocator = Nominatim(user_agent='zqsvzavaze')\n",
    "\n",
    "api_base_url = \"https://trainmap.ntag.fr/api/route?\"\n",
    "\n",
    "def get_train_route(departure_city, arrival_city):\n",
    "    # get the coordinates of the cities\n",
    "    departure_location = geolocator.geocode(departure_city)\n",
    "    departure_lon = float(departure_location.raw['lon'])\n",
    "    departure_lat = float(departure_location.raw['lat'])\n",
    "    arrival_location = geolocator.geocode(arrival_city)\n",
    "    arrival_lon = float(arrival_location.raw['lon'])\n",
    "    arrival_lat = float(arrival_location.raw['lat'])\n",
    "\n",
    "    # get the route of the trip\n",
    "    api_url = api_base_url+f\"dep={departure_lon:.5f},{departure_lat:.5f}&arr={arrival_lon:.5f},{arrival_lat:.5f}&simplify=1\"\n",
    "    print(api_url)\n",
    "    response = requests.get(api_url)\n",
    "    coordinates = response.json()['geometry']['coordinates'][0]\n",
    "    print(len(coordinates))\n",
    "\n",
    "get_train_route(\"Paris Gare du Nord\", \"Stockholms Centralstation\")"
   ]
  },
  {
   "cell_type": "code",
   "execution_count": null,
   "id": "b0602eae-1de2-4e57-8b93-91007cd60d12",
   "metadata": {},
   "outputs": [],
   "source": []
  },
  {
   "cell_type": "code",
   "execution_count": null,
   "id": "4afd143f-eb4c-4417-8d1d-f1862c186471",
   "metadata": {},
   "outputs": [],
   "source": []
  },
  {
   "cell_type": "code",
   "execution_count": null,
   "id": "eca5e52b-dbd8-45a5-95d4-59ee7262321d",
   "metadata": {},
   "outputs": [],
   "source": []
  },
  {
   "cell_type": "code",
   "execution_count": null,
   "id": "71cd4c1a-ac61-4925-831a-fed63492d3ad",
   "metadata": {},
   "outputs": [],
   "source": []
  }
 ],
 "metadata": {
  "kernelspec": {
   "display_name": "Python 3 (ipykernel)",
   "language": "python",
   "name": "python3"
  },
  "language_info": {
   "codemirror_mode": {
    "name": "ipython",
    "version": 3
   },
   "file_extension": ".py",
   "mimetype": "text/x-python",
   "name": "python",
   "nbconvert_exporter": "python",
   "pygments_lexer": "ipython3",
   "version": "3.11.6"
  }
 },
 "nbformat": 4,
 "nbformat_minor": 5
}
